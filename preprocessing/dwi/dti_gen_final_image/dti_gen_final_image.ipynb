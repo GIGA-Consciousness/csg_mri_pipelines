{
 "cells": [
  {
   "cell_type": "code",
   "execution_count": null,
   "metadata": {
    "collapsed": false
   },
   "outputs": [],
   "source": [
    "from __future__ import division\n",
    "from PIL import Image, ImageChops, ImageDraw, ImageFont\n",
    "\n",
    "def trim(im):\n",
    "    bg = Image.new(im.mode, im.size, im.getpixel((0,0)))\n",
    "    diff = ImageChops.difference(im, bg)\n",
    "    diff = ImageChops.add(diff, diff, 2.0, -100)\n",
    "    bbox = diff.getbbox()\n",
    "    if bbox:\n",
    "        return im.crop(bbox)\n",
    "\n",
    "def resize_height(img, baseheight):\n",
    "    baseheight = int(baseheight)\n",
    "    hpercent = (baseheight/float(img.size[1]))\n",
    "    wsize = int((float(img.size[0])*float(hpercent)))\n",
    "    return img.resize((wsize, baseheight), Image.ANTIALIAS)\n",
    "\n",
    "def resize_width(img, basewidth):\n",
    "    basewidth = int(basewidth)\n",
    "    wpercent = (basewidth/float(img.size[0]))\n",
    "    hsize = int((float(img.size[1])*float(wpercent)))\n",
    "    return img.resize((basewidth, hsize), Image.ANTIALIAS)\n",
    "\n",
    "im_width = im_height = 1000\n"
   ]
  },
  {
   "cell_type": "code",
   "execution_count": null,
   "metadata": {
    "collapsed": true
   },
   "outputs": [],
   "source": [
    "im_front = Image.open(\"front.png\")\n",
    "im_left = Image.open(\"left.png\")\n",
    "im_right = Image.open(\"right.png\")\n",
    "im_top = Image.open(\"top.png\")\n",
    "im_dti_template = Image.open(\"dti-template-blank.png\")"
   ]
  },
  {
   "cell_type": "code",
   "execution_count": null,
   "metadata": {
    "collapsed": false
   },
   "outputs": [],
   "source": [
    "im_front"
   ]
  },
  {
   "cell_type": "code",
   "execution_count": null,
   "metadata": {
    "collapsed": false
   },
   "outputs": [],
   "source": [
    "im_parts = []\n",
    "for img in (im_front, im_left, im_right, im_top):\n",
    "    draw = ImageDraw.Draw(img)\n",
    "    draw.rectangle((img.size[0]*0.9, img.size[1]*0.9, img.size[0], img.size[1]), fill='black')\n",
    "    im_parts.append(resize_height(trim(img), 410))"
   ]
  },
  {
   "cell_type": "code",
   "execution_count": null,
   "metadata": {
    "collapsed": false,
    "scrolled": true
   },
   "outputs": [],
   "source": [
    "im_parts[3]"
   ]
  },
  {
   "cell_type": "code",
   "execution_count": null,
   "metadata": {
    "collapsed": false
   },
   "outputs": [],
   "source": [
    "#im1_trimmed = trim(im1_crop)\n",
    "\n",
    "#im_parts_top = [resize_height(img, im_height/2) for img in (im1_trimmed, im2_new)]\n",
    "#im_parts_bottom = [resize_width(img, (im_width/2)*0.9) for img in (im3_trimmed, im4_trimmed)]\n",
    "\n",
    "im_dti_template.paste(im_parts[0], (305-int(im_parts[0].size[0]/2),840))\n",
    "im_dti_template.paste(im_parts[1], (954-int(im_parts[1].size[0]/2),840))\n",
    "im_dti_template.paste(im_parts[2], (1650-int(im_parts[2].size[0]/2),840))\n",
    "im_dti_template.paste(im_parts[3], (2364-int(im_parts[3].size[0]/2),840))\n",
    "\n",
    "center_pos = 1300\n",
    "patient_name = 'NAME'\n",
    "d = ImageDraw.Draw(im_dti_template)\n",
    "fnt = ImageFont.truetype('arialbold.ttf', 64)\n",
    "# Write control\n",
    "tw, th = d.textsize('CONTROL'.upper(), font=fnt)  # calculate text size to center position\n",
    "d.text((int(center_pos - tw/2),66), 'CONTROL'.upper(), font=fnt, fill=(255, 255, 255, 0))\n",
    "# Write patient name\n",
    "tw, th = d.textsize(patient_name.upper(), font=fnt)  # calculate text size to center position\n",
    "d.text((int(center_pos - tw/2),705), patient_name.upper(), font=fnt, fill=(255, 255, 255, 0))\n",
    "\n",
    "im_dti_template"
   ]
  },
  {
   "cell_type": "code",
   "execution_count": null,
   "metadata": {
    "collapsed": true
   },
   "outputs": [],
   "source": []
  }
 ],
 "metadata": {
  "kernelspec": {
   "display_name": "Python [default]",
   "language": "python",
   "name": "python2"
  },
  "language_info": {
   "codemirror_mode": {
    "name": "ipython",
    "version": 2
   },
   "file_extension": ".py",
   "mimetype": "text/x-python",
   "name": "python",
   "nbconvert_exporter": "python",
   "pygments_lexer": "ipython2",
   "version": "2.7.12"
  }
 },
 "nbformat": 4,
 "nbformat_minor": 0
}
